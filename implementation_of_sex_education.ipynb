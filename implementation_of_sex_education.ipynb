{
  "cells": [
    {
      "cell_type": "markdown",
      "metadata": {
        "id": "view-in-github",
        "colab_type": "text"
      },
      "source": [
        "<a href=\"https://colab.research.google.com/github/Neal-A/ITBA-3205_vitalIT/blob/main/implementation_of_sex_education.ipynb\" target=\"_parent\"><img src=\"https://colab.research.google.com/assets/colab-badge.svg\" alt=\"Open In Colab\"/></a>"
      ]
    },
    {
      "cell_type": "code",
      "execution_count": null,
      "metadata": {
        "id": "NklywLMsAWpD"
      },
      "outputs": [],
      "source": [
        "# Jovian Commit Essentials\n",
        "# Please retain and execute this cell without modifying the contents for `jovian.commit` to work\n",
        "!pip install jovian --upgrade -q\n",
        "import jovian\n",
        "jovian.set_project('implementation-of-sex-education')\n",
        "jovian.set_colab_id('1m2qQTY29tJ3ZqLKp_j-LsHJnGBRHJsCd')"
      ]
    },
    {
      "cell_type": "markdown",
      "metadata": {
        "id": "7qTzpFTN37tk"
      },
      "source": [
        "# implementation-of-sex-education\n",
        "\n",
        "Use the \"Run\" button to execute the code."
      ]
    },
    {
      "cell_type": "markdown",
      "metadata": {
        "id": "zwwmMmHK43fs"
      },
      "source": [
        "## Implementation of Sex Education Exploratory Data Analysis\n",
        "Todo - talk about EDA\n",
        "Todo - talk about the dataset (source, what it contains, how is it useful)\n",
        "- Philippine Statistics Authority\n",
        "- Data about Teenage Pregnancy\n",
        "- Can be used to highlight the importance of Sex Education"
      ]
    },
    {
      "cell_type": "markdown",
      "metadata": {
        "id": "sdkNNwd-43di"
      },
      "source": [
        "## Download the Data"
      ]
    },
    {
      "cell_type": "code",
      "execution_count": null,
      "metadata": {
        "id": "Lr93qyiD9eJB"
      },
      "outputs": [],
      "source": [
        "data_set1 = './teenage-pregnancy/Age at first sexual intercourse among young women(2013).csv'"
      ]
    },
    {
      "cell_type": "code",
      "execution_count": null,
      "metadata": {
        "id": "FeYoCq5A-L73"
      },
      "outputs": [],
      "source": [
        "data_set2 = './teenage-pregnancy/Early pregnancy and motherhood(2013).csv'"
      ]
    },
    {
      "cell_type": "code",
      "execution_count": null,
      "metadata": {
        "id": "sR_Os9KX-Xzn"
      },
      "outputs": [],
      "source": [
        "data_set2 = './teenage-pregnancy/Number and Percentage of Live Births M&F 2015.csv'"
      ]
    },
    {
      "cell_type": "code",
      "execution_count": null,
      "metadata": {
        "id": "2NNzHfeS_k4Y"
      },
      "outputs": [],
      "source": [
        "data_set3 = './teenage-pregnancy/Number and Percentage of Live Births M&F 2017.csv'"
      ]
    },
    {
      "cell_type": "code",
      "execution_count": null,
      "metadata": {
        "id": "vkV4LI45-XuJ"
      },
      "outputs": [],
      "source": [
        "data_set4 = './teenage-pregnancy/Number and Percentage of Live Births M&F 2019.csv'"
      ]
    },
    {
      "cell_type": "code",
      "execution_count": null,
      "metadata": {
        "id": "8Jz_Z7ig-XoH"
      },
      "outputs": [],
      "source": [
        "data_set5 = './teenage-pregnancy/Teenage pregnancy and motherhood 2017.csv'"
      ]
    },
    {
      "cell_type": "markdown",
      "metadata": {
        "id": "ny7IarHX43bS"
      },
      "source": [
        "## Data Preparation and Cleaning"
      ]
    },
    {
      "cell_type": "code",
      "execution_count": null,
      "metadata": {
        "id": "kSZPM1aD_JIn"
      },
      "outputs": [],
      "source": [
        "import pandas as pd"
      ]
    },
    {
      "cell_type": "code",
      "execution_count": null,
      "metadata": {
        "id": "I5kE4apL9kc3"
      },
      "outputs": [],
      "source": [
        "df = pd.read_csv(data_set5)"
      ]
    },
    {
      "cell_type": "code",
      "execution_count": null,
      "metadata": {
        "id": "L2u55GI29uOM"
      },
      "outputs": [],
      "source": [
        "df"
      ]
    },
    {
      "cell_type": "markdown",
      "metadata": {
        "id": "mlcWNFXC43Yy"
      },
      "source": [
        "## Exploratory Analysis and Visualization"
      ]
    },
    {
      "cell_type": "markdown",
      "metadata": {
        "id": "8PgsMSro43WK"
      },
      "source": [
        "## Ask & Answer Questions"
      ]
    },
    {
      "cell_type": "markdown",
      "metadata": {
        "id": "x09OttWD43RK"
      },
      "source": [
        "## Summary & Conclusion"
      ]
    },
    {
      "cell_type": "code",
      "execution_count": null,
      "metadata": {
        "id": "7gn6vQ8737tk"
      },
      "outputs": [],
      "source": [
        ""
      ]
    },
    {
      "cell_type": "markdown",
      "metadata": {
        "id": "s0uw_fqtAL_Z"
      },
      "source": [
        "## SAVCE"
      ]
    },
    {
      "cell_type": "code",
      "execution_count": null,
      "metadata": {
        "colab": {
          "base_uri": "https://localhost:8080/"
        },
        "id": "73dGzy1I6EDn",
        "outputId": "0592cfa3-a90e-4608-fdc2-f9c3543246eb"
      },
      "outputs": [
        {
          "name": "stdout",
          "output_type": "stream",
          "text": [
            "Mounted at /content/drive\n"
          ]
        }
      ],
      "source": [
        "from google.colab import drive\n",
        "drive.mount('/content/drive')"
      ]
    },
    {
      "cell_type": "code",
      "execution_count": null,
      "metadata": {
        "colab": {
          "base_uri": "https://localhost:8080/",
          "height": 140
        },
        "id": "iVEAsRz137tl",
        "outputId": "1e0bd26b-174f-41fa-b7c0-efd65c7050fd"
      },
      "outputs": [
        {
          "name": "stdout",
          "output_type": "stream",
          "text": [
            "[jovian] Detected Colab notebook...\u001b[0m\n",
            "[jovian] Please enter your API key ( from https://jovian.ai/ ):\u001b[0m\n",
            "API KEY: ··········\n",
            "[jovian] Uploading colab notebook to Jovian...\u001b[0m\n"
          ]
        },
        {
          "name": "stderr",
          "output_type": "stream",
          "text": [
            "\u001b[31m[jovian] Error: Looks like the notebook is missing output cells, please save the notebook and try jovian.commit again.\u001b[0m\n"
          ]
        },
        {
          "name": "stdout",
          "output_type": "stream",
          "text": [
            "Committed successfully! https://jovian.ai/neal-a/implementation-of-sex-education\n"
          ]
        },
        {
          "data": {
            "application/vnd.google.colaboratory.intrinsic+json": {
              "type": "string"
            },
            "text/plain": [
              "'https://jovian.ai/neal-a/implementation-of-sex-education'"
            ]
          },
          "execution_count": 31,
          "metadata": {},
          "output_type": "execute_result"
        }
      ],
      "source": [
        "# Execute this to save new versions of the notebook\n",
        "jovian.commit(project=\"implementation-of-sex-education\")"
      ]
    }
  ],
  "metadata": {
    "colab": {
      "collapsed_sections": [
        "x09OttWD43RK"
      ],
      "name": "implementation-of-sex-education.ipynb",
      "provenance": [],
      "include_colab_link": true
    },
    "kernelspec": {
      "display_name": "Python 3",
      "language": "python",
      "name": "python3"
    },
    "language_info": {
      "codemirror_mode": {
        "name": "ipython",
        "version": 3
      },
      "file_extension": ".py",
      "mimetype": "text/x-python",
      "name": "python",
      "nbconvert_exporter": "python",
      "pygments_lexer": "ipython3",
      "version": "3.7.6"
    }
  },
  "nbformat": 4,
  "nbformat_minor": 0
}